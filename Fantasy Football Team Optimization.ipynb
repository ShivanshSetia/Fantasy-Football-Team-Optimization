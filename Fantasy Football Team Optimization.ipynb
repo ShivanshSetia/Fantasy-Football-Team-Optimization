{
 "cells": [
  {
   "cell_type": "code",
   "execution_count": 128,
   "metadata": {},
   "outputs": [],
   "source": [
    "import pandas as pd"
   ]
  },
  {
   "cell_type": "code",
   "execution_count": 129,
   "metadata": {},
   "outputs": [],
   "source": [
    "import numpy as np \n",
    "import random"
   ]
  },
  {
   "cell_type": "code",
   "execution_count": 130,
   "metadata": {},
   "outputs": [],
   "source": [
    "import pulp as p"
   ]
  },
  {
   "cell_type": "code",
   "execution_count": 131,
   "metadata": {},
   "outputs": [],
   "source": [
    "player = [str(i) for i in range(200)]"
   ]
  },
  {
   "cell_type": "code",
   "execution_count": 132,
   "metadata": {},
   "outputs": [],
   "source": [
    "teams= ['A','B','C','D']"
   ]
  },
  {
   "cell_type": "code",
   "execution_count": 133,
   "metadata": {},
   "outputs": [],
   "source": [
    "p_team = [random.choice(teams) for i in range(200)  ]"
   ]
  },
  {
   "cell_type": "code",
   "execution_count": 134,
   "metadata": {},
   "outputs": [],
   "source": [
    "pos =['QB','RB','WR','TE','K','TD']"
   ]
  },
  {
   "cell_type": "code",
   "execution_count": 135,
   "metadata": {},
   "outputs": [],
   "source": [
    "p_pos = [ random.choice(pos) for i in range(200)]"
   ]
  },
  {
   "cell_type": "code",
   "execution_count": 136,
   "metadata": {},
   "outputs": [
    {
     "name": "stdout",
     "output_type": "stream",
     "text": [
      "['K' 'QB' 'RB' 'TD' 'TE' 'WR']\n",
      "['K' 'QB' 'RB' 'TD' 'TE' 'WR']\n",
      "['K' 'QB' 'RB' 'TD' 'TE' 'WR']\n",
      "['K' 'QB' 'RB' 'TD' 'TE' 'WR']\n"
     ]
    }
   ],
   "source": [
    "\n",
    "for j in teams:\n",
    "    c=[]\n",
    "    for i in range(200):\n",
    "        if p_team[i] == j :\n",
    "            c.append(p_pos[i])\n",
    "    print(np.unique(np.array(c)) )\n",
    "        "
   ]
  },
  {
   "cell_type": "code",
   "execution_count": 137,
   "metadata": {},
   "outputs": [],
   "source": [
    "opp_team=[]\n",
    "for i in teams:\n",
    "    c=teams.copy()\n",
    "    c.remove(i)\n",
    "    opp_team.append(c)\n"
   ]
  },
  {
   "cell_type": "code",
   "execution_count": 138,
   "metadata": {},
   "outputs": [],
   "source": [
    "opp_team[1][1]='D'\n",
    "opp_team[1][2]='C'\n",
    "opp_team[2][0]='D'\n",
    "opp_team[2][1]='A'\n",
    "opp_team[2][2]='B'\n",
    "opp_team[3][0]='C'\n",
    "opp_team[3][1]='B'\n",
    "opp_team[3][2]='A'"
   ]
  },
  {
   "cell_type": "code",
   "execution_count": 139,
   "metadata": {},
   "outputs": [
    {
     "data": {
      "text/plain": [
       "[['B', 'C', 'D'], ['A', 'D', 'C'], ['D', 'A', 'B'], ['C', 'B', 'A']]"
      ]
     },
     "execution_count": 139,
     "metadata": {},
     "output_type": "execute_result"
    }
   ],
   "source": [
    "opp_team"
   ]
  },
  {
   "cell_type": "code",
   "execution_count": 140,
   "metadata": {},
   "outputs": [],
   "source": [
    "data=[]\n",
    "data.append(player)\n",
    "data.append(p_team)\n",
    "data.append(p_pos)\n",
    "data = list(np.transpose(np.array(data)) )"
   ]
  },
  {
   "cell_type": "code",
   "execution_count": 141,
   "metadata": {},
   "outputs": [],
   "source": [
    "df = pd.DataFrame(data=data ,columns = ['Player','team','pos'])"
   ]
  },
  {
   "cell_type": "code",
   "execution_count": 142,
   "metadata": {},
   "outputs": [],
   "source": [
    "df_opp = pd.DataFrame(data = opp_team,columns=['week1','week2','week3'])"
   ]
  },
  {
   "cell_type": "code",
   "execution_count": 143,
   "metadata": {},
   "outputs": [],
   "source": [
    "df_opp['team'] = teams"
   ]
  },
  {
   "cell_type": "code",
   "execution_count": 144,
   "metadata": {},
   "outputs": [
    {
     "data": {
      "text/html": [
       "<div>\n",
       "<style scoped>\n",
       "    .dataframe tbody tr th:only-of-type {\n",
       "        vertical-align: middle;\n",
       "    }\n",
       "\n",
       "    .dataframe tbody tr th {\n",
       "        vertical-align: top;\n",
       "    }\n",
       "\n",
       "    .dataframe thead th {\n",
       "        text-align: right;\n",
       "    }\n",
       "</style>\n",
       "<table border=\"1\" class=\"dataframe\">\n",
       "  <thead>\n",
       "    <tr style=\"text-align: right;\">\n",
       "      <th></th>\n",
       "      <th>week1</th>\n",
       "      <th>week2</th>\n",
       "      <th>week3</th>\n",
       "      <th>team</th>\n",
       "    </tr>\n",
       "  </thead>\n",
       "  <tbody>\n",
       "    <tr>\n",
       "      <th>0</th>\n",
       "      <td>B</td>\n",
       "      <td>C</td>\n",
       "      <td>D</td>\n",
       "      <td>A</td>\n",
       "    </tr>\n",
       "    <tr>\n",
       "      <th>1</th>\n",
       "      <td>A</td>\n",
       "      <td>D</td>\n",
       "      <td>C</td>\n",
       "      <td>B</td>\n",
       "    </tr>\n",
       "    <tr>\n",
       "      <th>2</th>\n",
       "      <td>D</td>\n",
       "      <td>A</td>\n",
       "      <td>B</td>\n",
       "      <td>C</td>\n",
       "    </tr>\n",
       "    <tr>\n",
       "      <th>3</th>\n",
       "      <td>C</td>\n",
       "      <td>B</td>\n",
       "      <td>A</td>\n",
       "      <td>D</td>\n",
       "    </tr>\n",
       "  </tbody>\n",
       "</table>\n",
       "</div>"
      ],
      "text/plain": [
       "  week1 week2 week3 team\n",
       "0     B     C     D    A\n",
       "1     A     D     C    B\n",
       "2     D     A     B    C\n",
       "3     C     B     A    D"
      ]
     },
     "execution_count": 144,
     "metadata": {},
     "output_type": "execute_result"
    }
   ],
   "source": [
    "df_opp"
   ]
  },
  {
   "cell_type": "code",
   "execution_count": 145,
   "metadata": {},
   "outputs": [],
   "source": [
    "week1 = [random.randint(1,40) for i in range(200)   ]\n",
    "week2 = [random.randint(1,40) for i in range(200)   ]\n",
    "week3 = [random.randint(1,40) for i in range(200)   ]\n"
   ]
  },
  {
   "cell_type": "code",
   "execution_count": 146,
   "metadata": {},
   "outputs": [],
   "source": [
    "df['fpweek1'] = week1\n",
    "df['fpweek2'] = week2\n",
    "df['fpweek3'] = week3"
   ]
  },
  {
   "cell_type": "markdown",
   "metadata": {},
   "source": [
    "# Created a random Dataset "
   ]
  },
  {
   "cell_type": "code",
   "execution_count": 147,
   "metadata": {},
   "outputs": [
    {
     "data": {
      "text/html": [
       "<div>\n",
       "<style scoped>\n",
       "    .dataframe tbody tr th:only-of-type {\n",
       "        vertical-align: middle;\n",
       "    }\n",
       "\n",
       "    .dataframe tbody tr th {\n",
       "        vertical-align: top;\n",
       "    }\n",
       "\n",
       "    .dataframe thead th {\n",
       "        text-align: right;\n",
       "    }\n",
       "</style>\n",
       "<table border=\"1\" class=\"dataframe\">\n",
       "  <thead>\n",
       "    <tr style=\"text-align: right;\">\n",
       "      <th></th>\n",
       "      <th>Player</th>\n",
       "      <th>team</th>\n",
       "      <th>pos</th>\n",
       "      <th>fpweek1</th>\n",
       "      <th>fpweek2</th>\n",
       "      <th>fpweek3</th>\n",
       "    </tr>\n",
       "  </thead>\n",
       "  <tbody>\n",
       "    <tr>\n",
       "      <th>0</th>\n",
       "      <td>0</td>\n",
       "      <td>B</td>\n",
       "      <td>TD</td>\n",
       "      <td>31</td>\n",
       "      <td>4</td>\n",
       "      <td>12</td>\n",
       "    </tr>\n",
       "    <tr>\n",
       "      <th>1</th>\n",
       "      <td>1</td>\n",
       "      <td>A</td>\n",
       "      <td>K</td>\n",
       "      <td>20</td>\n",
       "      <td>36</td>\n",
       "      <td>7</td>\n",
       "    </tr>\n",
       "    <tr>\n",
       "      <th>2</th>\n",
       "      <td>2</td>\n",
       "      <td>A</td>\n",
       "      <td>RB</td>\n",
       "      <td>23</td>\n",
       "      <td>34</td>\n",
       "      <td>23</td>\n",
       "    </tr>\n",
       "    <tr>\n",
       "      <th>3</th>\n",
       "      <td>3</td>\n",
       "      <td>C</td>\n",
       "      <td>QB</td>\n",
       "      <td>33</td>\n",
       "      <td>14</td>\n",
       "      <td>9</td>\n",
       "    </tr>\n",
       "    <tr>\n",
       "      <th>4</th>\n",
       "      <td>4</td>\n",
       "      <td>D</td>\n",
       "      <td>RB</td>\n",
       "      <td>9</td>\n",
       "      <td>16</td>\n",
       "      <td>31</td>\n",
       "    </tr>\n",
       "  </tbody>\n",
       "</table>\n",
       "</div>"
      ],
      "text/plain": [
       "  Player team pos  fpweek1  fpweek2  fpweek3\n",
       "0      0    B  TD       31        4       12\n",
       "1      1    A   K       20       36        7\n",
       "2      2    A  RB       23       34       23\n",
       "3      3    C  QB       33       14        9\n",
       "4      4    D  RB        9       16       31"
      ]
     },
     "execution_count": 147,
     "metadata": {},
     "output_type": "execute_result"
    }
   ],
   "source": [
    "df.head()"
   ]
  },
  {
   "cell_type": "code",
   "execution_count": 148,
   "metadata": {},
   "outputs": [],
   "source": [
    "r= random.sample(range(200),200)"
   ]
  },
  {
   "cell_type": "code",
   "execution_count": 149,
   "metadata": {},
   "outputs": [],
   "source": [
    "df['rank'] = r"
   ]
  },
  {
   "cell_type": "markdown",
   "metadata": {},
   "source": [
    "# Assigning Ranks to each player"
   ]
  },
  {
   "cell_type": "code",
   "execution_count": 150,
   "metadata": {},
   "outputs": [],
   "source": [
    "ls=[]\n",
    "for i in range(200):\n",
    "    s = df['fpweek1'][i] + df['fpweek2'][i] +df['fpweek3'][i]\n",
    "    ls.append(s)\n",
    "s =sorted(ls,reverse=True)\n",
    "    "
   ]
  },
  {
   "cell_type": "code",
   "execution_count": 151,
   "metadata": {},
   "outputs": [],
   "source": [
    "r=[]\n",
    "for i in range(200):\n",
    "    x = df['fpweek1'][i] + df['fpweek2'][i] +df['fpweek3'][i]\n",
    "    ind = s.index(x)\n",
    "    r.append(ind)\n",
    "df['rank']=r\n",
    "    "
   ]
  },
  {
   "cell_type": "markdown",
   "metadata": {},
   "source": [
    "# Giving the set of possible Fantasy Points Required for each week"
   ]
  },
  {
   "cell_type": "code",
   "execution_count": 152,
   "metadata": {},
   "outputs": [],
   "source": [
    "fpreq = [random.randint(260,350) for i in range(3)]"
   ]
  },
  {
   "cell_type": "code",
   "execution_count": 153,
   "metadata": {},
   "outputs": [
    {
     "data": {
      "text/plain": [
       "[281, 321, 310]"
      ]
     },
     "execution_count": 153,
     "metadata": {},
     "output_type": "execute_result"
    }
   ],
   "source": [
    "fpreq"
   ]
  },
  {
   "cell_type": "markdown",
   "metadata": {},
   "source": [
    "# Excluding the ranks chosen by our opponents"
   ]
  },
  {
   "cell_type": "code",
   "execution_count": 154,
   "metadata": {},
   "outputs": [],
   "source": [
    "def opp_ranks(rank):\n",
    "    r = rank\n",
    "    total = 4\n",
    "    ranks =[]\n",
    "    prev =r\n",
    "    for i in range(1,200):\n",
    "        \n",
    "        if i%2==0:\n",
    "            r = r+total+1\n",
    "        else:\n",
    "            r = r+total-1\n",
    "        \n",
    "        num = random.randint(1,3)\n",
    "        selects = [random.randint(prev,r) for j in range(num)]\n",
    "        prev = r\n",
    "        for j in selects:\n",
    "            ranks.append(j)\n",
    "            \n",
    "                    \n",
    "    final_r =[1]*200\n",
    "    for i in range(200):\n",
    "        if df['rank'][i] in ranks:\n",
    "            final_r[i]=0\n",
    "    return final_r\n",
    "    \n",
    "    \n",
    "    "
   ]
  },
  {
   "cell_type": "markdown",
   "metadata": {},
   "source": [
    "# Mapping each player with their position"
   ]
  },
  {
   "cell_type": "code",
   "execution_count": 155,
   "metadata": {},
   "outputs": [],
   "source": [
    "qb=[]\n",
    "rb=[]\n",
    "wr=[]\n",
    "te=[]\n",
    "k=[]\n",
    "td=[]\n",
    "\n",
    "for i in df['pos']:\n",
    "    if i=='QB':\n",
    "        qb.append(1)\n",
    "    else :\n",
    "        qb.append(0)\n",
    "    if i=='RB':\n",
    "        rb.append(1)\n",
    "    else :\n",
    "        rb.append(0)\n",
    "    if i=='WR':\n",
    "        wr.append(1)\n",
    "    else :\n",
    "        wr.append(0)\n",
    "    if i=='TE':\n",
    "        te.append(1)\n",
    "    else :\n",
    "        te.append(0)\n",
    "    if i=='K':\n",
    "        k.append(1)\n",
    "    else :\n",
    "        k.append(0)\n",
    "    if i=='TD':\n",
    "        td.append(1)\n",
    "    else :\n",
    "        td.append(0)\n",
    "\n"
   ]
  },
  {
   "cell_type": "markdown",
   "metadata": {},
   "source": [
    "# Integer Programming"
   ]
  },
  {
   "cell_type": "code",
   "execution_count": 156,
   "metadata": {},
   "outputs": [],
   "source": [
    "prob = p.LpProblem('Problem',p.LpMaximize)\n",
    "\n",
    "#The order given in draft phase\n",
    "pos = random.randint(1,4)\n",
    "\n",
    "#Mapping the required ranks from which we can chose players\n",
    "ranks = opp_ranks(pos)\n",
    "\n",
    "num_player =200\n",
    "selected = p.LpVariable.dict('select',range(num_player),cat='Binary')\n",
    "#Variable for week 1\n",
    "x1 = p.LpVariable.dict('x1',range(num_player),cat='Binary')\n",
    "#Variable for week 2\n",
    "x2 = p.LpVariable.dict('x2',range(num_player),cat='Binary')\n",
    "#Variable for week 3\n",
    "x3 = p.LpVariable.dict('x3',range(num_player),cat='Binary')\n",
    "\n",
    "\n",
    "# Objective Function to maximize Fantasy points\n",
    "prob += sum([x1[i]*df['fpweek1'][i] for i in range(num_player)]) + sum([x2[i]*df['fpweek2'][i] for i in range(num_player)]) + sum([x3[i]*df['fpweek3'][i] for i in range(num_player)]) \n",
    "\n",
    "\n",
    "#Contraints\n",
    "\n",
    "prob+= sum(selected[i] for i in range(num_player))<=50\n",
    "\n",
    "\n",
    "# The number of players required each week\n",
    "#forx1\n",
    "prob+= sum([x1[i] for i in range(num_player)]) ==9\n",
    "\n",
    "prob += sum([x1[i]*qb[i] for i in range(num_player)] )==1\n",
    "\n",
    "prob += sum([x1[i]*rb[i] for i in range(num_player) ])==2\n",
    "\n",
    "prob += sum([x1[i]*wr[i] for i in range(num_player)] )==3\n",
    "\n",
    "prob += sum([x1[i]*te[i] for i in range(num_player)] )==1\n",
    "\n",
    "prob += sum([x1[i]*k[i] for i in range(num_player)] )==1\n",
    "\n",
    "prob += sum([x1[i]*td[i] for i in range(num_player)] )==1\n",
    "\n",
    "#forx2\n",
    "prob+= sum([x2[i] for i in range(num_player)]) ==9\n",
    "\n",
    "prob += sum([x2[i]*qb[i] for i in range(num_player)] )==1\n",
    "\n",
    "prob += sum([x2[i]*rb[i] for i in range(num_player) ])==2\n",
    "\n",
    "prob += sum([x2[i]*wr[i] for i in range(num_player)] )==3\n",
    "\n",
    "prob += sum([x2[i]*te[i] for i in range(num_player)] )==1\n",
    "\n",
    "prob += sum([x2[i]*k[i] for i in range(num_player)] )==1\n",
    "\n",
    "prob += sum([x2[i]*td[i] for i in range(num_player)] )==1\n",
    "\n",
    "#forx3\n",
    "prob+= sum([x3[i] for i in range(num_player)]) ==9\n",
    "\n",
    "prob += sum([x3[i]*qb[i] for i in range(num_player)] )==1\n",
    "\n",
    "prob += sum([x3[i]*rb[i] for i in range(num_player) ])==2\n",
    "\n",
    "prob += sum([x3[i]*wr[i] for i in range(num_player)] )==3\n",
    "\n",
    "prob += sum([x3[i]*te[i] for i in range(num_player)] )==1\n",
    "\n",
    "prob += sum([x3[i]*k[i] for i in range(num_player)] )==1\n",
    "\n",
    "prob += sum([x3[i]*td[i] for i in range(num_player)] )==1\n",
    "\n",
    "#The Fantasy points for beating the opponent\n",
    "#for winning\n",
    "prob+= sum([x1[i]*df['fpweek1'][i] for i in range(num_player)])>=fpreq[0]\n",
    "prob+= sum([x2[i]*df['fpweek2'][i] for i in range(num_player)])>=fpreq[1]\n",
    "prob+= sum([x3[i]*df['fpweek3'][i] for i in range(num_player)])>=fpreq[2]\n",
    "prob+= sum([selected[i]*df['fpweek1'][i] for i in range(num_player)])>=fpreq[0]\n",
    "prob+= sum([selected[i]*df['fpweek2'][i] for i in range(num_player)])>=fpreq[1]\n",
    "prob+= sum([selected[i]*df['fpweek3'][i] for i in range(num_player)])>=fpreq[2]\n",
    "\n",
    "\n",
    "#The ranks from which players can be chosen\n",
    "\n",
    "prob+= sum([x1[i]*ranks[i] for i in range(num_player)])==9\n",
    "prob+= sum([x2[i]*ranks[i] for i in range(num_player)])==9\n",
    "prob+= sum([x3[i]*ranks[i] for i in range(num_player)])==9\n",
    "prob += sum([selected[i]*ranks[i] for i in range(num_player)] )<=50\n",
    "\n",
    "\n"
   ]
  },
  {
   "cell_type": "code",
   "execution_count": 157,
   "metadata": {},
   "outputs": [
    {
     "data": {
      "text/plain": [
       "1"
      ]
     },
     "execution_count": 157,
     "metadata": {},
     "output_type": "execute_result"
    }
   ],
   "source": [
    "prob.solve()"
   ]
  },
  {
   "cell_type": "code",
   "execution_count": 158,
   "metadata": {},
   "outputs": [],
   "source": [
    "sel=[]\n",
    "for i in range(200):\n",
    "    if p.value(x1[i])>=0.9 and p.value(x1[i])<=1.1:\n",
    "        sel.append(1)\n",
    "    if p.value(x2[i])>=0.9 and p.value(x2[i])<=1.1:\n",
    "        sel.append(1)\n",
    "    if p.value(x3[i])>=0.9 and p.value(x3[i])<=1.1:\n",
    "        sel.append(1)\n",
    "\n",
    "    else:\n",
    "        sel.append(0)"
   ]
  },
  {
   "cell_type": "markdown",
   "metadata": {},
   "source": [
    "# Final List of Players Chosen"
   ]
  },
  {
   "cell_type": "code",
   "execution_count": 159,
   "metadata": {},
   "outputs": [
    {
     "name": "stdout",
     "output_type": "stream",
     "text": [
      "['5', 'WR', 34, 6, 38]\n",
      "['9', 'QB', 1, 29, 40]\n",
      "['21', 'WR', 38, 39, 3]\n",
      "['22', 'WR', 35, 23, 22]\n",
      "['41', 'RB', 11, 40, 25]\n",
      "['55', 'WR', 26, 20, 2]\n",
      "['68', 'K', 14, 27, 32]\n",
      "['74', 'WR', 7, 13, 34]\n",
      "['82', 'TD', 11, 32, 1]\n",
      "['97', 'RB', 12, 13, 8]\n",
      "['111', 'RB', 10, 6, 33]\n",
      "['126', 'QB', 7, 6, 7]\n",
      "['138', 'QB', 38, 6, 25]\n",
      "['140', 'TE', 20, 11, 7]\n",
      "['145', 'K', 14, 27, 6]\n",
      "['153', 'TD', 21, 9, 27]\n",
      "['154', 'QB', 8, 15, 12]\n",
      "['162', 'TD', 33, 35, 32]\n",
      "['172', 'RB', 36, 36, 3]\n",
      "['176', 'K', 23, 28, 7]\n",
      "['182', 'TE', 37, 40, 20]\n",
      "['192', 'TE', 18, 31, 23]\n",
      "['195', 'QB', 12, 25, 17]\n",
      "['196', 'WR', 31, 5, 18]\n",
      "['197', 'K', 16, 6, 5]\n",
      "1488\n"
     ]
    }
   ],
   "source": [
    "total = 0\n",
    "final=[]\n",
    "for i in range(200):\n",
    "    if sel[i]==1:\n",
    "        print([df['Player'][i], df['pos'][i] , df['fpweek1'][i] , df['fpweek2'][i],df['fpweek3'][i] ])\n",
    "        final.append([df['Player'][i], df['pos'][i] , df['fpweek1'][i] , df['fpweek2'][i],df['fpweek3'][i] ])\n",
    "        total+=  df['fpweek1'][i] +  df['fpweek2'][i]+ df['fpweek3'][i]\n",
    "print(total)\n"
   ]
  },
  {
   "cell_type": "code",
   "execution_count": null,
   "metadata": {},
   "outputs": [],
   "source": []
  },
  {
   "cell_type": "code",
   "execution_count": null,
   "metadata": {},
   "outputs": [],
   "source": []
  },
  {
   "cell_type": "code",
   "execution_count": null,
   "metadata": {},
   "outputs": [],
   "source": []
  }
 ],
 "metadata": {
  "kernelspec": {
   "display_name": "Python 3",
   "language": "python",
   "name": "python3"
  },
  "language_info": {
   "codemirror_mode": {
    "name": "ipython",
    "version": 3
   },
   "file_extension": ".py",
   "mimetype": "text/x-python",
   "name": "python",
   "nbconvert_exporter": "python",
   "pygments_lexer": "ipython3",
   "version": "3.6.2"
  }
 },
 "nbformat": 4,
 "nbformat_minor": 2
}
